{
 "cells": [
  {
   "cell_type": "code",
   "execution_count": 1,
   "metadata": {},
   "outputs": [],
   "source": [
    "import numpy as np"
   ]
  },
  {
   "cell_type": "markdown",
   "metadata": {},
   "source": [
    "# Exercise 2.1: Another ball dropped from a tower"
   ]
  },
  {
   "cell_type": "markdown",
   "metadata": {},
   "source": [
    "Newton Second law from ball falling without air resistence:\n",
    "$$\n",
    "\\vec F = m_{b} \\vec a = \\vec P = m_b \\vec g = -m_{b} g \\vec e_y\\\\\n",
    "\\vec a = \\vec g\n",
    "$$\n",
    "where $\\vec a = \\frac{d^2\\vec r}{dt^2}$ and since the movement is one-dimensional it becomes $|\\vec a| = \\frac{d^2 x}{dt^2}$\n",
    "When initial velocity is zero the motion equation becomes:\n",
    "$$\n",
    "y(t) = h_0 - \\frac{1}{2}g t ^2\n",
    "$$\n",
    "where $h_0$ is the tower heigth.\n",
    "\n",
    "To know the time it takes the ball to hit the ground we just need to solve the equation $y(t_0) = 0$:\n",
    "$$\n",
    "t_0 = \\sqrt{2 \\frac{h_0}{g}}\n",
    "$$"
   ]
  },
  {
   "cell_type": "code",
   "execution_count": 3,
   "metadata": {},
   "outputs": [],
   "source": [
    "def time_to_hit_ground(h_0):\n",
    "    \"\"\"Computes the time it takes a ball to hit the ground from a tower with height h_0 with no drag.\n",
    "    \n",
    "    SI units\n",
    "    \"\"\"\n",
    "    \n",
    "    g = 9.8\n",
    "    time = np.sqrt(2 * h_0 / g)\n",
    "    return time"
   ]
  },
  {
   "cell_type": "code",
   "execution_count": 10,
   "metadata": {},
   "outputs": [
    {
     "name": "stdout",
     "output_type": "stream",
     "text": [
      "time is: 4.518 s\n"
     ]
    }
   ],
   "source": [
    "print(\"time is: {:.3f} s\".format(time_to_hit_ground(100)))"
   ]
  }
 ],
 "metadata": {
  "interpreter": {
   "hash": "7812ea015bdcee6f23a998adcdd2ef97c151c0c241b7b7070987d9313e41299d"
  },
  "kernelspec": {
   "display_name": "Python 3.9.0 64-bit",
   "language": "python",
   "name": "python3"
  },
  "language_info": {
   "codemirror_mode": {
    "name": "ipython",
    "version": 3
   },
   "file_extension": ".py",
   "mimetype": "text/x-python",
   "name": "python",
   "nbconvert_exporter": "python",
   "pygments_lexer": "ipython3",
   "version": "3.9.0"
  },
  "orig_nbformat": 4
 },
 "nbformat": 4,
 "nbformat_minor": 2
}

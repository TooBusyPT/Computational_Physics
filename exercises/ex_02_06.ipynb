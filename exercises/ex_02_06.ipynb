{
 "cells": [
  {
   "cell_type": "code",
   "execution_count": 1,
   "id": "5f63e728-3097-4a56-95f3-8dce777d3a1c",
   "metadata": {},
   "outputs": [],
   "source": [
    "import numpy as np"
   ]
  },
  {
   "cell_type": "markdown",
   "id": "ffb8a7a9-bae4-40c1-8373-985f0a947310",
   "metadata": {
    "tags": []
   },
   "source": [
    "# Planetary Orbits\n",
    "\n",
    "We have the followings relations:\n",
    "\n",
    "\\begin{equation}\n",
    "l_2 v_2 = l_1 v_1 \\qquad \\text{Simplification of Kepler's Law} \\\\\n",
    "v_2^2 - \\frac{2GM}{v_1 l_1}v_2 - \\left[ v_1^2 - \\frac{2GM}{l_1}\\right] = 0 \\qquad \\text{Second order Polynomial}\n",
    "\\end{equation}\n",
    "where $m$ is the mass of the planet, $M = 1.9891 \\times 10^{30}\\,\\text{Kg}$ is the mass of the Sun, and $G = 6.6738 \\times 10^{-11}\\,\\text{m}^3 \\text{Kg}^{-1}s^{-2}$ is the universal constant of gravitation.\n",
    "\n",
    "---\n",
    "The values $v_1$, $l_1$ and $v_2$, $l_2$ need to be the extreme values of the elliptical orbit.\n",
    "$l_1$ is the closest point to the sun, it's the perihelion.\n",
    "$l_2$ is the farthest point to the sun, it's the aphelion.\n",
    "\n",
    "To solve this problem we will use Classes to better structure this problem.\n",
    "To find the value of $v_2$ we only need to solve a second order polynomial."
   ]
  },
  {
   "cell_type": "code",
   "execution_count": 7,
   "id": "434eb079-463b-4a79-adf8-d3864ed5a591",
   "metadata": {},
   "outputs": [],
   "source": [
    "class planetSolarSystem:\n",
    "    # Global Constants, we need to declare them global so we can access\n",
    "    # them inside the methods of the class.\n",
    "    global G, M\n",
    "    G = 6.6738e-11\n",
    "    M = 1.9891e30\n",
    "\n",
    "    def __init__(self, v1, l1):\n",
    "        \"\"\"Creates the planet values.\n",
    "        \n",
    "        :param m: float mass of the planet.\n",
    "        :param v1: float velocity of the closest point to the sun.\n",
    "        :param l1: float lowest radius of the orbit.\n",
    "        \n",
    "        l1 must be the perihelion and l2 will be the aphelion.\n",
    "        \"\"\"\n",
    "        self.v1 = v1\n",
    "        self.l1 = l1\n",
    "        self.v2 = self.calculate_v2()\n",
    "        self.l2 = self.v1 * self.l1 / self.v2\n",
    "        self.a = self.semi_major_axis()\n",
    "        self.b = self.semi_minor_axis()\n",
    "        self.T = self.orbital_period()\n",
    "        self.e = self.orbital_eccentricity()\n",
    "        \n",
    "    def calculate_v2(self):\n",
    "        \"\"\"Calculates v2\n",
    "        \n",
    "        V2 is the velocity in the point of the biggest radius of the orbit.\n",
    "        \"\"\"\n",
    "        a = 1\n",
    "        b = -2 * G * M / (self.v1 * self.l1)\n",
    "        c = -(self.v1**2 - 2 * G * M / self.l1)\n",
    "        aux_1 = -b/2\n",
    "        aux_2 = np.sqrt(b**2/4 - c)\n",
    "        solution = np.array([aux_1 - aux_2, aux_1 + aux_2])\n",
    "        return np.amin(solution)\n",
    "    \n",
    "    def semi_major_axis(self):\n",
    "        \"\"\"Returns the value of the major axis.\n",
    "        \"\"\"\n",
    "        return (self.l1 + self.l2)/2\n",
    "        \n",
    "    def semi_minor_axis(self):\n",
    "        \"\"\"Returns the value of the minor axis.\n",
    "        \"\"\"\n",
    "        return np.sqrt(self.l1 * self.l2)\n",
    "    \n",
    "    def orbital_period(self):\n",
    "        \"\"\"Returns the value of the orbital period.\n",
    "        \"\"\"\n",
    "        return 2 * np.pi * self.a * self.b / (self.l1 * self.v1)\n",
    "        \n",
    "    def orbital_eccentricity(self):\n",
    "        \"\"\"Returns the value of the orbital eccentricity.\n",
    "        \"\"\"\n",
    "        return (self.l2 - self.l1)/(self.l2 + self.l1)\n",
    "    \n",
    "    def print_relevant_info(self):\n",
    "        \"\"\"Used to show relevant information about the celestial body.\n",
    "        \"\"\"\n",
    "        print(\"Semi-major axis: {:.3f}\".format(self.a))\n",
    "        print(\"Semi-minor axis: {:.3f}\".format(self.b))\n",
    "        print(\"Orbital period: {:.3f}\".format(self.T))\n",
    "        print(\"Orbital eccentricity: {:.3f}\\n\".format(self.e))\n",
    "        pass"
   ]
  },
  {
   "cell_type": "code",
   "execution_count": 8,
   "id": "0d2ec2fd-b8dd-4d06-8780-aa13331a6e77",
   "metadata": {},
   "outputs": [
    {
     "name": "stdout",
     "output_type": "stream",
     "text": [
      "Semi-major axis: 149563598604.330\n",
      "Semi-minor axis: 149543307136.742\n",
      "Orbital period: 31543060.208\n",
      "Orbital eccentricity: 0.016\n",
      "\n",
      "Semi-major axis: 2685022330438.221\n",
      "Semi-minor axis: 681129146098.431\n",
      "Orbital period: 2399312511.845\n",
      "Orbital eccentricity: 0.967\n",
      "\n",
      "1.0 years\n",
      "76.0 years\n"
     ]
    }
   ],
   "source": [
    "v1earth = 3.0287e4\n",
    "l1earth = 1.4710e11\n",
    "v1halley = 5.4529e4\n",
    "l1halley = 8.7830e10\n",
    "earth = planetSolarSystem(v1earth, l1earth)\n",
    "halley = planetSolarSystem(v1halley, l1halley)\n",
    "\n",
    "# print the information asked by the exercise\n",
    "earth.print_relevant_info()\n",
    "halley.print_relevant_info()\n",
    "earthT = earth.T\n",
    "halleyT = halley.T\n",
    "\n",
    "# convert to years\n",
    "earthT = earthT / 60 / 60 / 24 / 365.25\n",
    "halleyT = halleyT / 60 / 60 / 24 / 365.25\n",
    "print(\"{:.1f} years\".format(earthT))\n",
    "print(\"{:.1f} years\".format(halleyT))"
   ]
  },
  {
   "cell_type": "code",
   "execution_count": null,
   "id": "0fb45f3e-128d-4d70-a574-7ac854fbf25a",
   "metadata": {},
   "outputs": [],
   "source": []
  }
 ],
 "metadata": {
  "kernelspec": {
   "display_name": "Python 3",
   "language": "python",
   "name": "python3"
  },
  "language_info": {
   "codemirror_mode": {
    "name": "ipython",
    "version": 3
   },
   "file_extension": ".py",
   "mimetype": "text/x-python",
   "name": "python",
   "nbconvert_exporter": "python",
   "pygments_lexer": "ipython3",
   "version": "3.9.0"
  }
 },
 "nbformat": 4,
 "nbformat_minor": 5
}

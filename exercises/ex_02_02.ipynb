{
 "cells": [
  {
   "cell_type": "code",
   "execution_count": 1,
   "metadata": {},
   "outputs": [],
   "source": [
    "import numpy as np"
   ]
  },
  {
   "cell_type": "markdown",
   "metadata": {},
   "source": [
    "# Exercise 2.2: Altitude of a satellite"
   ]
  },
  {
   "cell_type": "markdown",
   "metadata": {},
   "source": [
    "**a)**\n",
    "\n",
    "Gravitational Force\n",
    "$$\n",
    "\\vec F = - G \\frac{mM}{r^2} \\hat r\n",
    "$$\n",
    "\n",
    "We can derive the equations for a constant velocity circular motion.\n",
    "\n",
    "First we have the following equations:\n",
    "\n",
    "$$\n",
    "v = \\frac{dx}{dt} \\\\\n",
    "a = \\frac{dv}{dt} = \\frac{d^2x}{dt^2}\\\\\n",
    "\\omega = \\frac{\\theta}{t}\n",
    "$$\n",
    "where $\\omega$ is the angular velocity and $\\theta$ is the angle that the $\\vec r$ vector makes with the $x$ axis.\n",
    "Since we are talking about a circular motion the module of $\\vec r$ is constant and it will be $r$.\n",
    "\n",
    "We first need to make our variables dependent on angular coordinates ($\\theta$ and $\\omega$).\n",
    "\n",
    "$$\n",
    "\\textbf{x}=\\left[\\begin{array}{c}\n",
    "r\\cos\\theta\\\\\n",
    "r\\sin\\theta\n",
    "\\end{array}\\right]=\\left[\\begin{array}{c}\n",
    "r\\cos\\omega t\\\\\n",
    "r\\sin\\omega t\n",
    "\\end{array}\\right]\n",
    "$$\n",
    "\n",
    "Now we need to pass this to the velocity equation:\n",
    "\n",
    "$$\n",
    "\\textbf{v}=\\frac{d\\textbf{x}}{dt}=\\frac{d}{dt}\\left(\\left[\\begin{array}{c}\n",
    "r\\cos\\omega t\\\\\n",
    "r\\sin\\omega t\n",
    "\\end{array}\\right]\\right)=\\left[\\begin{array}{c}\n",
    "-\\omega r\\sin\\omega t\\\\\n",
    "\\omega r\\cos\\omega t\n",
    "\\end{array}\\right]\n",
    "$$\n",
    "\n",
    "Also we can calculate the magnitude of the velocity:\n",
    "\n",
    "$$\n",
    "|\\textbf{v}| = \\sqrt{(-\\omega r \\cos \\omega t)^2 + (\\omega r \\sin \\omega t)^2} = \\omega r\n",
    "$$\n",
    "\n",
    "If we think a little and imagine the vectors of the velocity we see that it is always perpendicular to the radial vector and tangent the circular orbit.\n",
    "\n",
    "Now we must find the acceleration:\n",
    "\n",
    "$$\n",
    "\\textbf{a}=\\frac{d\\textbf{v}}{dt}=\\frac{d^{2}}{dt^{2}}\\left(\\left[\\begin{array}{c}\n",
    "r\\cos\\omega t\\\\\n",
    "r\\sin\\omega t\n",
    "\\end{array}\\right]\\right)=\\left[\\begin{array}{c}\n",
    "-\\omega^{2}r\\cos\\omega t\\\\\n",
    "-\\omega^{2}r\\sin\\omega t\n",
    "\\end{array}\\right]=\\omega^2 r\\left[\\begin{array}{c}\n",
    "-\\cos\\omega t\\\\\n",
    "-\\sin\\omega t\n",
    "\\end{array}\\right]\n",
    "$$\n",
    "as we can see the acceleration has the same direction as the radial vector and it point inwards, this meaning that we are dealing with a centripetal force.\n",
    "\n",
    "Now we have this values:\n",
    "$$\n",
    "v = r \\omega \\\\\n",
    "a = r \\omega^2 = \\frac{v^2}{r}\n",
    "$$\n",
    "All we did here was assuming a constant velocity.\n",
    "\n",
    "Now we know that the force that acts on the satellite is the gravitational force.\n",
    "\n",
    "Let's define some values:\n",
    "$$\n",
    "m = \\text{Mass of satellite}\\\\\n",
    "M = \\text{Mass of Earth}\\\\\n",
    "G = \\text{Universal Gravitational Constant}\n",
    "$$\n",
    "\n",
    "We will thought of $\\hat r$ as the unitary position vector.\n",
    "To calculate the force that acts on the satellite we need the distance between the center of mass of the satellite and the center of mass of Earth, we will call this value $d$.\n",
    "\n",
    "This distance is the Earth Radius $R$ and the altitude of the satellite: $d = R + h$\n",
    "\n",
    "From Newton Second Law we have that:\n",
    "$$\n",
    "\\vec F = m \\vec a \\\\\n",
    "- G \\frac{mM}{d^2} \\hat r = m \\vec a\\\\\n",
    "- G \\frac{mM}{d^2} \\hat r = - m  d \\omega^2 \\hat r\\\\\n",
    "d^3= G \\frac{M}{\\omega^2} \\\\\n",
    "d = \\left( G \\frac{M}{\\omega^2} \\right)^{1/3} \\\\\n",
    "h = \\left( G \\frac{M}{\\omega^2} \\right)^{1/3} - R\n",
    "$$\n",
    "\n",
    "We know that $\\omega = \\frac{2\\pi}{T}$ where $T$ is the period of rotation.\n",
    "\n",
    "So we get:\n",
    "$$\n",
    "h = \\left( G \\frac{MT^2}{4 \\pi^2} \\right)^{1/3} - R\n",
    "$$\n"
   ]
  },
  {
   "cell_type": "code",
   "execution_count": 3,
   "metadata": {},
   "outputs": [],
   "source": [
    "def satellite_altitude(T):\n",
    "    \"\"\"Returns the altitude of a Satellite.\n",
    "    \n",
    "    :param T: float orbital period seconds.\n",
    "    :return: orbital altitude on meters.\n",
    "    \"\"\"\n",
    "    # constants\n",
    "    G = 6.67e-11\n",
    "    M = 5.97e24\n",
    "    R = 6371e3\n",
    "\n",
    "    h = ( G * M * T**2 / (4 * np.pi**2) )**1/3 - R\n",
    "    return h"
   ]
  },
  {
   "cell_type": "code",
   "execution_count": 8,
   "metadata": {},
   "outputs": [
    {
     "name": "stdout",
     "output_type": "stream",
     "text": [
      "1 day rotation: 2.510e+22 m\n",
      "90 min rotation: 9.8041e+19 m\n",
      "45 min rotation: 2.45102e+19 m\n"
     ]
    }
   ],
   "source": [
    "# one day\n",
    "T_day = 24 * 60 * 60\n",
    "T_90 = 90 * 60\n",
    "T_45 = 45 * 60\n",
    "\n",
    "print(\"1 day rotation: {:.3e} m\".format(satellite_altitude(T_day)))\n",
    "print(\"90 min rotation: {:.4e} m\".format(satellite_altitude(T_90)))\n",
    "print(\"45 min rotation: {:.5e} m\".format(satellite_altitude(T_45)))"
   ]
  },
  {
   "cell_type": "code",
   "execution_count": 12,
   "metadata": {},
   "outputs": [
    {
     "name": "stdout",
     "output_type": "stream",
     "text": [
      "Difference is 1.462e+20 m\n"
     ]
    }
   ],
   "source": [
    "T_day_less = 23.93 * 60 * 60\n",
    "# \n",
    "print(\"Difference is {:.3e} m\".format(np.abs(satellite_altitude(T_day) - satellite_altitude(T_day_less))))"
   ]
  }
 ],
 "metadata": {
  "interpreter": {
   "hash": "7812ea015bdcee6f23a998adcdd2ef97c151c0c241b7b7070987d9313e41299d"
  },
  "kernelspec": {
   "display_name": "Python 3.9.0 64-bit",
   "language": "python",
   "name": "python3"
  },
  "language_info": {
   "codemirror_mode": {
    "name": "ipython",
    "version": 3
   },
   "file_extension": ".py",
   "mimetype": "text/x-python",
   "name": "python",
   "nbconvert_exporter": "python",
   "pygments_lexer": "ipython3",
   "version": "3.9.0"
  },
  "orig_nbformat": 4
 },
 "nbformat": 4,
 "nbformat_minor": 2
}
